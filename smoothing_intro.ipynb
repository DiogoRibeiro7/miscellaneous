{
 "cells": [
  {
   "cell_type": "markdown",
   "metadata": {},
   "source": [
    "$\\newcommand{L}[1]{\\| #1 \\|}\\newcommand{VL}[1]{\\L{ \\vec{#1} }}\\newcommand{R}[1]{\\operatorname{Re}\\,(#1)}\\newcommand{I}[1]{\\operatorname{Im}\\, (#1)}$\n",
    "\n",
    "## An introduction to smoothing\n",
    "\n",
    "Smoothing is a process by which data points are averaged with their neighbors\n",
    "in a series, such as a time series, or image. This (usually) has the effect of\n",
    "blurring the sharp edges in the smoothed data.  Smoothing is sometimes\n",
    "referred to as filtering, because smoothing has the effect of suppressing high\n",
    "frequency signal and enhancing low frequency signal. There are many different\n",
    "methods of smoothing, but here we discuss smoothing with a Gaussian kernel. We\n",
    "hope we will succeed in explaining this phrase in the explanation below.\n",
    "\n",
    "### Some example data for smoothing\n",
    "\n",
    "First we load and configure the libraries we need:"
   ]
  },
  {
   "cell_type": "code",
   "execution_count": 1,
   "metadata": {},
   "outputs": [],
   "source": [
    "import numpy as np\n",
    "import matplotlib.pyplot as plt\n",
    "# Make numpy print 4 significant digits for prettiness\n",
    "np.set_printoptions(precision=4, suppress=True)\n",
    "np.random.seed(5) # To get predictable random numbers"
   ]
  },
  {
   "cell_type": "code",
   "execution_count": 2,
   "metadata": {},
   "outputs": [],
   "source": [
    "%matplotlib inline"
   ]
  },
  {
   "cell_type": "markdown",
   "metadata": {},
   "source": [
    "Here is a set of data, made out of random numbers, that we will use as a\n",
    "pretend time series, or a single line of data from one plane of an\n",
    "image."
   ]
  },
  {
   "cell_type": "code",
   "execution_count": 3,
   "metadata": {},
   "outputs": [
    {
     "data": {
      "text/plain": [
       "<BarContainer object of 40 artists>"
      ]
     },
     "execution_count": 3,
     "metadata": {},
     "output_type": "execute_result"
    },
    {
     "data": {
      "image/png": "[encoded data removed]",
      "text/plain": [
       "<Figure size 432x288 with 1 Axes>"
      ]
     },
     "metadata": {
      "needs_background": "light"
     },
     "output_type": "display_data"
    }
   ],
   "source": [
    "n_points = 40\n",
    "x_vals = np.arange(n_points)\n",
    "y_vals = np.random.normal(size=n_points)\n",
    "plt.bar(x_vals, y_vals)"
   ]
  },
  {
   "cell_type": "markdown",
   "metadata": {},
   "source": [
    "# The Gaussian kernel\n",
    "\n",
    "The ‘kernel’ for smoothing, defines the shape of the function that is\n",
    "used to take the average of the neighboring points. A Gaussian kernel\n",
    "is a kernel with the shape of a Gaussian (normal distribution) curve.\n",
    "Here is a standard Gaussian, with a mean of 0 and a $\\sigma$ (=population\n",
    "standard deviation) of 1."
   ]
  },
  {
   "cell_type": "code",
   "execution_count": 4,
   "metadata": {},
   "outputs": [
    {
     "data": {
      "text/plain": [
       "[<matplotlib.lines.Line2D at 0x1f514786fc8>]"
      ]
     },
     "execution_count": 4,
     "metadata": {},
     "output_type": "execute_result"
    },
    {
     "data": {
      "image/png": "[encoded data removed]",
      "text/plain": [
       "<Figure size 432x288 with 1 Axes>"
      ]
     },
     "metadata": {
      "needs_background": "light"
     },
     "output_type": "display_data"
    }
   ],
   "source": [
    "x = np.arange(-6, 6, 0.1) # x from -6 to 6 in steps of 0.1\n",
    "y = 1 / np.sqrt(2 * np.pi) * np.exp(-x ** 2 / 2.)\n",
    "plt.plot(x, y)"
   ]
  },
  {
   "cell_type": "markdown",
   "metadata": {},
   "source": [
    "In the standard statistical way, we have defined the width of the Gaussian\n",
    "shape in terms of $\\sigma$. However, when the Gaussian is used for smoothing,\n",
    "it is common for imagers to describe the width of the Gaussian with another\n",
    "related measure, the Full Width at Half Maximum (FWHM).\n",
    "\n",
    "The FWHM is the width of the kernel, at half of the maximum of the\n",
    "height of the Gaussian. Thus, for the standard Gaussian above, the\n",
    "maximum height is ~0.4.  The width of the kernel at 0.2 (on the Y axis) is the\n",
    "FWHM. As x = -1.175 and 1.175 when y = 0.2, the FWHM is roughly 2.35.\n",
    "\n",
    "The FWHM is related to sigma by the following formulae (in Python):"
   ]
  },
  {
   "cell_type": "code",
   "execution_count": 5,
   "metadata": {},
   "outputs": [],
   "source": [
    "def sigma2fwhm(sigma):\n",
    "    return sigma * np.sqrt(8 * np.log(2))"
   ]
  },
  {
   "cell_type": "code",
   "execution_count": 6,
   "metadata": {},
   "outputs": [],
   "source": [
    "def fwhm2sigma(fwhm):\n",
    "    return fwhm / np.sqrt(8 * np.log(2))"
   ]
  },
  {
   "cell_type": "markdown",
   "metadata": {},
   "source": [
    "In our case:"
   ]
  },
  {
   "cell_type": "code",
   "execution_count": 7,
   "metadata": {},
   "outputs": [
    {
     "data": {
      "text/plain": [
       "2.3548200450309493"
      ]
     },
     "execution_count": 7,
     "metadata": {},
     "output_type": "execute_result"
    }
   ],
   "source": [
    "sigma2fwhm(1)"
   ]
  },
  {
   "cell_type": "markdown",
   "metadata": {},
   "source": [
    "# Smoothing with the kernel\n",
    "\n",
    "The basic process of smoothing is very simple. We proceed through the\n",
    "data point by point. For each data point we generate a new value that is\n",
    "some function of the original value at that point and the surrounding\n",
    "data points.With Gaussian smoothing, the function that is used is our\n",
    "Gaussian curve..\n",
    "\n",
    "So, let us say that we are generating the new, smoothed value for the\n",
    "14th value in our example data set. We are using a Gaussian with FWHM of\n",
    "4 units on the x axis. To generate the Gaussian kernel average for this\n",
    "14th data point, we first move the Gaussian shape to have its center at\n",
    "13 on the x axis (13 is the 14th value because the first value is 0). In order\n",
    "to make sure that we don’t do an overall scaling of the values after\n",
    "smoothing, we divide the values in the Gaussian curve by the total area under\n",
    "the curve, so that the values add up to one:"
   ]
  },
  {
   "cell_type": "code",
   "execution_count": 8,
   "metadata": {},
   "outputs": [
    {
     "data": {
      "text/plain": [
       "<BarContainer object of 40 artists>"
      ]
     },
     "execution_count": 8,
     "metadata": {},
     "output_type": "execute_result"
    },
    {
     "data": {
      "image/png": "[encoded data removed]",
      "text/plain": [
       "<Figure size 432x288 with 1 Axes>"
      ]
     },
     "metadata": {
      "needs_background": "light"
     },
     "output_type": "display_data"
    }
   ],
   "source": [
    "FWHM = 4\n",
    "sigma = fwhm2sigma(FWHM)\n",
    "x_position = 13 # 14th point\n",
    "kernel_at_pos = np.exp(-(x_vals - x_position) ** 2 / (2 * sigma ** 2))\n",
    "kernel_at_pos = kernel_at_pos / sum(kernel_at_pos)\n",
    "plt.bar(x_vals, kernel_at_pos)"
   ]
  },
  {
   "cell_type": "markdown",
   "metadata": {},
   "source": [
    "In fact the Gaussian values for the 12th through 16th data points are:"
   ]
  },
  {
   "cell_type": "code",
   "execution_count": 9,
   "metadata": {},
   "outputs": [
    {
     "data": {
      "text/plain": [
       "array([0.1174, 0.1975, 0.2349, 0.1975, 0.1174])"
      ]
     },
     "execution_count": 9,
     "metadata": {},
     "output_type": "execute_result"
    }
   ],
   "source": [
    "kernel_at_pos[11:16]"
   ]
  },
  {
   "cell_type": "markdown",
   "metadata": {},
   "source": [
    "and the data values for the same points are:"
   ]
  },
  {
   "cell_type": "code",
   "execution_count": 10,
   "metadata": {},
   "outputs": [
    {
     "data": {
      "text/plain": [
       "array([-0.2049, -0.3588,  0.6035, -1.6648, -0.7002])"
      ]
     },
     "execution_count": 10,
     "metadata": {},
     "output_type": "execute_result"
    }
   ],
   "source": [
    "y_vals[11:16]"
   ]
  },
  {
   "cell_type": "markdown",
   "metadata": {},
   "source": [
    "We then multiply the Gaussian kernel (weight) values by the values of our\n",
    "data, and sum the results to get the new smoothed value for point 13:"
   ]
  },
  {
   "cell_type": "code",
   "execution_count": 11,
   "metadata": {},
   "outputs": [
    {
     "data": {
      "text/plain": [
       "-0.3479685901184573"
      ]
     },
     "execution_count": 11,
     "metadata": {},
     "output_type": "execute_result"
    }
   ],
   "source": [
    "y_by_weight = y_vals * kernel_at_pos # element-wise multiplication\n",
    "new_val = sum(y_by_weight)\n",
    "new_val"
   ]
  },
  {
   "cell_type": "markdown",
   "metadata": {},
   "source": [
    "We store this new smoothed value for future use, and move on, to x = 14,\n",
    "and repeat the process, with the Gaussian kernel now centered over 14.  If we\n",
    "do this for each point, we eventually get the smoothed version of our original\n",
    "data. Here is a very inefficient but simple way of doing this:"
   ]
  },
  {
   "cell_type": "code",
   "execution_count": 12,
   "metadata": {},
   "outputs": [
    {
     "data": {
      "text/plain": [
       "<BarContainer object of 40 artists>"
      ]
     },
     "execution_count": 12,
     "metadata": {},
     "output_type": "execute_result"
    },
    {
     "data": {
      "image/png": "[encoded data removed]",
      "text/plain": [
       "<Figure size 432x288 with 1 Axes>"
      ]
     },
     "metadata": {
      "needs_background": "light"
     },
     "output_type": "display_data"
    }
   ],
   "source": [
    "smoothed_vals = np.zeros(y_vals.shape)\n",
    "for x_position in x_vals:\n",
    "    kernel = np.exp(-(x_vals - x_position) ** 2 / (2 * sigma ** 2))\n",
    "    kernel = kernel / sum(kernel)\n",
    "    smoothed_vals[x_position] = sum(y_vals * kernel)\n",
    "plt.bar(x_vals, smoothed_vals)"
   ]
  },
  {
   "cell_type": "markdown",
   "metadata": {},
   "source": [
    "# Other kernels\n",
    "\n",
    "Of course, we could have used any shape for the kernel - such as a\n",
    "square wave. A square wave kernel with sum set to one would would have the\n",
    "effect of replacing each data point with the mean of itself and the\n",
    "neighboring points.\n",
    "\n",
    "# Smoothing as convolution\n",
    "\n",
    "Smoothing can also be implemented and understood as *convolution*\n",
    "\n",
    "# Smoothing in 2D\n",
    "\n",
    "Smoothing in two dimensions follows simply from smoothing in one\n",
    "dimension. This time the Gaussian kernel is not a curve, but a cone:"
   ]
  },
  {
   "cell_type": "code",
   "execution_count": 13,
   "metadata": {},
   "outputs": [
    {
     "data": {
      "text/plain": [
       "<mpl_toolkits.mplot3d.art3d.Poly3DCollection at 0x1f5149cbe48>"
      ]
     },
     "execution_count": 13,
     "metadata": {},
     "output_type": "execute_result"
    },
    {
     "data": {
      "image/png": "[encoded data removed]",
      "text/plain": [
       "<Figure size 432x288 with 1 Axes>"
      ]
     },
     "metadata": {
      "needs_background": "light"
     },
     "output_type": "display_data"
    }
   ],
   "source": [
    "from mpl_toolkits.mplot3d import Axes3D\n",
    "fig = plt.figure()\n",
    "ax = fig.add_subplot(111, projection='3d')\n",
    "dx = 0.1\n",
    "dy = 0.1\n",
    "x = np.arange(-6, 6, dx)\n",
    "y = np.arange(-6, 6, dy)\n",
    "x2d, y2d = np.meshgrid(x, y)\n",
    "kernel_2d = np.exp(-(x2d ** 2 + y2d ** 2) / (2 * sigma ** 2))\n",
    "kernel_2d = kernel_2d / (2 * np.pi * sigma ** 2) # unit integral\n",
    "ax.plot_surface(x2d, y2d, kernel_2d)"
   ]
  },
  {
   "cell_type": "markdown",
   "metadata": {},
   "source": [
    "As for the 1D case, we can center this kernel to any point in a 2D plane, and\n",
    "get the equivalent kernel values for each point on the plane.  Here is a 2D\n",
    "Gaussian kernel centered at point (10, 10) on a size (20, 20) plane.  See the\n",
    "page source for the code to make the figure:\n",
    "\n",
    "We then proceed as before, multiplying the values of the kernel (as shown in\n",
    "the figure above) by the data in the image, to get the smoothed value for that\n",
    "point, and doing the same for every point on the image.\n",
    "\n",
    "The procedure is the same for 3D data, except the kernel is rather more\n",
    "difficult to visualize, being something like a sphere with edges that fade\n",
    "out, as the cone fades out at the edges in the 2D case.\n",
    "\n",
    "In fact, it turns out that we don’t have to generate these 2D and 3D versions\n",
    "of the kernel for the computations, because we can get the same result from\n",
    "applying a one dimensional smooth sequentially in the 2 or 3 dimensions. Thus,\n",
    "for 2 dimensions, we could first smooth in the x direction, and then smooth\n",
    "the x-smoothed data, in the y direction, This gives the same output as\n",
    "applying the 2D kernel.\n",
    "\n",
    "# Why smooth?\n",
    "\n",
    "The primary reason for smoothing is to increase signal to noise.  Smoothing\n",
    "increases signal to noise by the matched filter theorem. This theorem states\n",
    "that the filter that will give optimum resolution of signal from noise is a\n",
    "filter that is matched to the signal. In the case of smoothing, the filter is\n",
    "the Gaussian kernel. Therefore, if we are expecting signal in our images that\n",
    "is of Gaussian shape, and of FWHM of say 10mm, then this signal will best be\n",
    "detected after we have smoothed our images with a 10mm FWHM Gaussian\n",
    "filter.The next few images show the matched filter theorem in action. First we\n",
    "can generate a simulated signal in a one dimensional set of data, by creating\n",
    "a Gaussian with FWHM 8 pixels, centered over the 14th data point:"
   ]
  },
  {
   "cell_type": "code",
   "execution_count": 14,
   "metadata": {},
   "outputs": [
    {
     "data": {
      "text/plain": [
       "<BarContainer object of 40 artists>"
      ]
     },
     "execution_count": 14,
     "metadata": {},
     "output_type": "execute_result"
    },
    {
     "data": {
      "image/png": "[encoded data removed]",
      "text/plain": [
       "<Figure size 432x288 with 1 Axes>"
      ]
     },
     "metadata": {
      "needs_background": "light"
     },
     "output_type": "display_data"
    }
   ],
   "source": [
    "FWHM = 8\n",
    "sigma = fwhm2sigma(FWHM)\n",
    "x_position = 13 # 14th point\n",
    "sim_signal = np.exp(-(x_vals - x_position) ** 2 / (2 * sigma ** 2))\n",
    "plt.bar(x_vals, sim_signal)"
   ]
  },
  {
   "cell_type": "markdown",
   "metadata": {},
   "source": [
    "Next, we add some random noise to this signal:"
   ]
  },
  {
   "cell_type": "code",
   "execution_count": 15,
   "metadata": {},
   "outputs": [
    {
     "data": {
      "text/plain": [
       "<BarContainer object of 40 artists>"
      ]
     },
     "execution_count": 15,
     "metadata": {},
     "output_type": "execute_result"
    },
    {
     "data": {
      "image/png": "[encoded data removed]",
      "text/plain": [
       "<Figure size 432x288 with 1 Axes>"
      ]
     },
     "metadata": {
      "needs_background": "light"
     },
     "output_type": "display_data"
    }
   ],
   "source": [
    "noise = np.random.normal(size=n_points)\n",
    "sim_data = sim_signal + noise\n",
    "plt.bar(x_vals, sim_data)"
   ]
  },
  {
   "cell_type": "markdown",
   "metadata": {},
   "source": [
    "We then smooth with a matching 8 pixel FWHM filter:"
   ]
  },
  {
   "cell_type": "code",
   "execution_count": 16,
   "metadata": {},
   "outputs": [
    {
     "data": {
      "text/plain": [
       "<BarContainer object of 40 artists>"
      ]
     },
     "execution_count": 16,
     "metadata": {},
     "output_type": "execute_result"
    },
    {
     "data": {
      "image/png": "[encoded data removed]",
      "text/plain": [
       "<Figure size 432x288 with 1 Axes>"
      ]
     },
     "metadata": {
      "needs_background": "light"
     },
     "output_type": "display_data"
    }
   ],
   "source": [
    "smoothed_sim_data = np.zeros(y_vals.shape)\n",
    "for x_position in x_vals:\n",
    "    kernel = np.exp(-(x_vals - x_position) ** 2 / (2 * sigma ** 2))\n",
    "    kernel = kernel / sum(kernel)\n",
    "    smoothed_sim_data[x_position] = sum(sim_data * kernel)\n",
    "plt.bar(x_vals, smoothed_sim_data)"
   ]
  },
  {
   "cell_type": "markdown",
   "metadata": {},
   "source": [
    "and recover our signal well from the noisy data.\n",
    "\n",
    "Thus, we smooth with a filter that is of matched size to the activation we\n",
    "wish to detect. This is of particular relevance when comparing activation\n",
    "across subjects. Here, the anatomical variability between subjects will mean\n",
    "that the signal across subjects may be expected to be rather widely\n",
    "distributed over the cortical surface. In such a case it may be wiser to use a\n",
    "wide smoothing to detect this signal. In contrast, for a single subject\n",
    "experiment, where you want to detect (for example) a thalamic signal, which\n",
    "may be in the order of a few mm across, it would be wiser to use a very narrow\n",
    "smoothing, or even no smoothing.\n",
    "\n",
    "# Finding the signal for any smoothing level\n",
    "\n",
    "Sometimes you do not know the size or the shape of the signal change\n",
    "that you are expecting. In these cases, it is difficult to choose a\n",
    "smoothing level, because the smoothing may reduce signal that is not of\n",
    "the same size and shape as the smoothing kernel. There are ways of\n",
    "detecting signal at different smoothing level, that allow appropriate\n",
    "corrections for multiple corrections, and levels of smoothing. This\n",
    "Worsley 1996 paper describes such an approach: [Worsley KJ, Marret S,\n",
    "Neelin P, Evans AC (1996) Searching scale space for activation in PET\n",
    "images. Human Brain Mapping\n",
    "4:74-90]"
   ]
  },
  {
   "cell_type": "code",
   "execution_count": null,
   "metadata": {},
   "outputs": [],
   "source": []
  }
 ],
 "metadata": {
  "kernelspec": {
   "display_name": "Python 3",
   "language": "python",
   "name": "python3"
  },
  "language_info": {
   "codemirror_mode": {
    "name": "ipython",
    "version": 3
   },
   "file_extension": ".py",
   "mimetype": "text/x-python",
   "name": "python",
   "nbconvert_exporter": "python",
   "pygments_lexer": "ipython3",
   "version": "3.7.6"
  }
 },
 "nbformat": 4,
 "nbformat_minor": 2
}
